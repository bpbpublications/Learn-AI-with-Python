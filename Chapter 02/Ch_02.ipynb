{
 "cells": [
  {
   "cell_type": "markdown",
   "metadata": {},
   "source": [
    "# Building AI Applications using Python - Code Examples\n",
    "Chapter 2 - Machine Learning & its Algorithms"
   ]
  },
  {
   "cell_type": "markdown",
   "metadata": {},
   "source": [
    "##### Simple Linear Regression-Example 1"
   ]
  },
  {
   "cell_type": "code",
   "execution_count": 1,
   "metadata": {},
   "outputs": [],
   "source": [
    "#Importing necessary packages\n",
    "\n",
    "import numpy as np \n",
    "import matplotlib.pyplot as plt \n",
    "%matplotlib inline\n"
   ]
  },
  {
   "cell_type": "code",
   "execution_count": 2,
   "metadata": {},
   "outputs": [],
   "source": [
    "#Defining a function for calculating values needed for Simple Linear Regression (SLR)\n",
    "\n",
    "def coef_estimation(x, y): \n",
    "    n = np.size(x) #calculating number of observations ‘n’.\n",
    "    mean_x, mean_y = np.mean(x), np.mean(y) #calculating mean of x and y vectors\n",
    "    cross_xy = np.sum(y*x) - n*mean_y*mean_x #calculating cross-deviation and deviation about x.\n",
    "    cross_xx = np.sum(x*x) - n*mean_x*mean_x \n",
    "    reg_b_1 = cross_xy / cross_xx #calculating regression coefficients i.e. b. \n",
    "    reg_b_0 = mean_y - reg_b_1*mean_x \n",
    "    return(reg_b_0, reg_b_1)\n"
   ]
  },
  {
   "cell_type": "code",
   "execution_count": 3,
   "metadata": {},
   "outputs": [],
   "source": [
    "#Defining a function for plotting the regression line\n",
    "\n",
    "def plot_regression_line(x, y, b): \n",
    "    plt.scatter(x, y, color = \"r\", marker = \"o\", s = 20) #plotting actual points as scatter plot \n",
    "    y_pred = b[0] + b[1]*x #predicting response vector\n",
    "    plt.plot(x, y_pred, color = \"g\")#plotting the regression line and labels on it \n",
    "    plt.xlabel('x') \n",
    "    plt.ylabel('y') \n",
    "    plt.show()\n"
   ]
  },
  {
   "cell_type": "code",
   "execution_count": 4,
   "metadata": {},
   "outputs": [
    {
     "name": "stdout",
     "output_type": "stream",
     "text": [
      "Estimated coefficients:\n",
      "reg_b_0 = 187.08333333333337 \n",
      "reg_b_1 = 118.03571428571429\n"
     ]
    },
    {
     "data": {
      "image/png": "[encoded data removed]",
      "text/plain": [
       "<Figure size 432x288 with 1 Axes>"
      ]
     },
     "metadata": {
      "needs_background": "light"
     },
     "output_type": "display_data"
    }
   ],
   "source": [
    "#Defining the main() function to provide dataset and calling above-defined functions\n",
    "\n",
    "def main(): \n",
    "    x = np.array([0, 1, 2, 3, 4, 5, 6, 7, 8, 9,10, 11, 12, 13, 14])\n",
    "    y = np.array([100, 300, 350, 500, 750, 850, 900,950, 1250, 1350, 1400, 1550, 1600, 1650,1700])\n",
    "\n",
    "    b = coef_estimation(x, y) \n",
    "    print(\"Estimated coefficients:\\nreg_b_0 = {} \\nreg_b_1 = {}\".format(b[0],b[1]))  \n",
    "    plot_regression_line(x, y, b) \n",
    "  \n",
    "if __name__ == \"__main__\": \n",
    "        main()\n"
   ]
  },
  {
   "cell_type": "markdown",
   "metadata": {},
   "source": [
    "##### Simple Linear Regression-Example 2"
   ]
  },
  {
   "cell_type": "code",
   "execution_count": 5,
   "metadata": {},
   "outputs": [],
   "source": [
    "#Importing necessary packages\n",
    "\n",
    "import matplotlib.pyplot as plt\n",
    "import numpy as np\n",
    "from sklearn import datasets, linear_model\n",
    "from sklearn.metrics import mean_squared_error, r2_score\n",
    "%matplotlib inline\n"
   ]
  },
  {
   "cell_type": "code",
   "execution_count": 6,
   "metadata": {},
   "outputs": [],
   "source": [
    "#Loading the dataset and creating its object\n",
    "\n",
    "diabetes_data = datasets.load_diabetes()\n"
   ]
  },
  {
   "cell_type": "code",
   "execution_count": 7,
   "metadata": {},
   "outputs": [],
   "source": [
    "#Using one feature \n",
    "\n",
    "X = diabetes_data.data[:, np.newaxis, 2]\n"
   ]
  },
  {
   "cell_type": "code",
   "execution_count": 8,
   "metadata": {},
   "outputs": [],
   "source": [
    "#Splitting the data into training and testing sets\n",
    "\n",
    "X_train = X[:-35]\n",
    "X_test = X[-35:]\n"
   ]
  },
  {
   "cell_type": "code",
   "execution_count": 9,
   "metadata": {},
   "outputs": [],
   "source": [
    "#Splitting the target into training and testing sets\n",
    "\n",
    "y_train = diabetes_data.target[:-35]\n",
    "y_test = diabetes_data.target[-35:]\n"
   ]
  },
  {
   "cell_type": "code",
   "execution_count": 10,
   "metadata": {},
   "outputs": [],
   "source": [
    "#Creating linear regression object\n",
    "\n",
    "SLR_reg = linear_model.LinearRegression()\n",
    "\n",
    "#Training the model using the training sets\n",
    "SLR_reg.fit(X_train, y_train)\n",
    "\n",
    "#Making predictions by using the testing set \n",
    "y_pred = SLR_reg.predict(X_test)\n",
    "\n"
   ]
  },
  {
   "cell_type": "code",
   "execution_count": 11,
   "metadata": {},
   "outputs": [
    {
     "name": "stdout",
     "output_type": "stream",
     "text": [
      "Coefficients: \n",
      " [963.82249207]\n",
      "Mean squared error: 3487.66\n",
      "Variance score: 0.26\n"
     ]
    }
   ],
   "source": [
    "# Printing Regeression Coefficient, Mean Squared Error(MSE),Variance Score. Also plotting the regression line and labels on it.\n",
    "   \n",
    "print('Coefficients: \\n', SLR_reg.coef_)\n",
    "print(\"Mean squared error: %.2f\"\n",
    "      % mean_squared_error(y_test, y_pred))\n",
    "print('Variance score: %.2f' % r2_score(y_test, y_pred))\n"
   ]
  },
  {
   "cell_type": "code",
   "execution_count": 12,
   "metadata": {},
   "outputs": [
    {
     "data": {
      "image/png": "[encoded data removed]",
      "text/plain": [
       "<Figure size 432x288 with 1 Axes>"
      ]
     },
     "metadata": {},
     "output_type": "display_data"
    }
   ],
   "source": [
    "#Plotting the outputs:\n",
    "\n",
    "plt.scatter(X_test, y_test,  color='blue')\n",
    "plt.plot(X_test, y_pred, color='red', linewidth=3)\n",
    "\n",
    "plt.xticks(())\n",
    "plt.yticks(())\n",
    "\n",
    "plt.show()\n"
   ]
  },
  {
   "cell_type": "markdown",
   "metadata": {},
   "source": [
    "##### Multiple Linear Regression"
   ]
  },
  {
   "cell_type": "code",
   "execution_count": 13,
   "metadata": {},
   "outputs": [],
   "source": [
    "#Importing necessary packages\n",
    "\n",
    "import matplotlib.pyplot as plt \n",
    "import numpy as np \n",
    "from sklearn import datasets, linear_model, metrics \n",
    "%matplotlib inline\n"
   ]
  },
  {
   "cell_type": "code",
   "execution_count": 14,
   "metadata": {},
   "outputs": [],
   "source": [
    "#Loading the dataset and creating its object\n",
    "\n",
    "boston_data = datasets.load_boston(return_X_y=False)\n",
    "\n"
   ]
  },
  {
   "cell_type": "code",
   "execution_count": 15,
   "metadata": {},
   "outputs": [],
   "source": [
    "#Defining feature matrix X and response vector Y \n",
    "\n",
    "X = boston_data.data \n",
    "y = boston_data.target\n"
   ]
  },
  {
   "cell_type": "code",
   "execution_count": 16,
   "metadata": {},
   "outputs": [],
   "source": [
    "#Splitting the data into training and testing sets\n",
    "\n",
    "from sklearn.model_selection import train_test_split \n",
    "X_train, X_test, y_train, y_test = train_test_split(X, y, test_size=0.6, random_state=1)\n",
    "\n"
   ]
  },
  {
   "cell_type": "code",
   "execution_count": 17,
   "metadata": {},
   "outputs": [
    {
     "data": {
      "text/plain": [
       "LinearRegression(copy_X=True, fit_intercept=True, n_jobs=None, normalize=False)"
      ]
     },
     "execution_count": 17,
     "metadata": {},
     "output_type": "execute_result"
    }
   ],
   "source": [
    "#Creating regression object and do the training of the model\n",
    "\n",
    "MLR_reg = linear_model.LinearRegression() \n",
    "  \n",
    "MLR_reg.fit(X_train, y_train) \n",
    "  \n"
   ]
  },
  {
   "cell_type": "code",
   "execution_count": 18,
   "metadata": {},
   "outputs": [
    {
     "name": "stdout",
     "output_type": "stream",
     "text": [
      "Coefficients: \n",
      " [-7.95572889e-02  7.11808367e-02  5.82382970e-02  1.48237233e+00\n",
      " -1.67360287e+01  2.95000985e+00  2.33290549e-02 -1.35721280e+00\n",
      "  3.13822151e-01 -1.16929875e-02 -8.07436236e-01  6.67075368e-03\n",
      " -6.71019667e-01]\n",
      "Variance score: 0.7325323805669589\n"
     ]
    },
    {
     "data": {
      "image/png": "[encoded data removed]",
      "text/plain": [
       "<Figure size 432x288 with 1 Axes>"
      ]
     },
     "metadata": {
      "needs_background": "light"
     },
     "output_type": "display_data"
    }
   ],
   "source": [
    "# Printing Regeression Coefficient, and Variance Score. Also plotting the regression line and labels on it.\n",
    "\n",
    "print('Coefficients: \\n', MLR_reg.coef_) \n",
    "  \n",
    "print('Variance score: {}'.format(MLR_reg.score(X_test, y_test))) \n",
    "  \n",
    "plt.style.use('bmh') \n",
    "  \n",
    "plt.scatter(MLR_reg.predict(X_train), MLR_reg.predict(X_train) - y_train, \n",
    "            color = \"green\", s = 20, label = 'Train_data') \n",
    "  \n",
    "plt.scatter(MLR_reg.predict(X_test), MLR_reg.predict(X_test) - y_test, \n",
    "            color = \"blue\", s = 10, label = 'Test_data') \n",
    "  \n",
    "plt.hlines(y = 0, xmin = 0, xmax = 50, color = 'red', linewidth = 1.25) \n",
    "plt.legend(loc = 'upper right') \n",
    "plt.title(\"Residual errors(eo)\") \n",
    "plt.show()\n"
   ]
  },
  {
   "cell_type": "markdown",
   "metadata": {},
   "source": [
    "##### Logistic Regression "
   ]
  },
  {
   "cell_type": "code",
   "execution_count": 19,
   "metadata": {},
   "outputs": [],
   "source": [
    "#Importing necessary packages\n",
    "\n",
    "%matplotlib inline\n",
    "import numpy as np \n",
    "import matplotlib.pyplot as plt\n"
   ]
  },
  {
   "cell_type": "code",
   "execution_count": 20,
   "metadata": {},
   "outputs": [],
   "source": [
    "#Downloading the digit dataset\n",
    "\n",
    "from sklearn.datasets import load_digits\n",
    "digits_dataset = load_digits()\n"
   ]
  },
  {
   "cell_type": "code",
   "execution_count": 21,
   "metadata": {},
   "outputs": [
    {
     "name": "stdout",
     "output_type": "stream",
     "text": [
      "(1797, 64)\n",
      "(1797,)\n"
     ]
    }
   ],
   "source": [
    "# Printing total images and labels in the dataset \n",
    "print(digits_dataset.data.shape)\n",
    "print(digits_dataset.target.shape)\n"
   ]
  },
  {
   "cell_type": "code",
   "execution_count": 24,
   "metadata": {},
   "outputs": [
    {
     "data": {
      "image/png": "[encoded data removed]",
      "text/plain": [
       "<Figure size 1440x288 with 10 Axes>"
      ]
     },
     "metadata": {
      "needs_background": "light"
     },
     "output_type": "display_data"
    }
   ],
   "source": [
    "#Let’s have a look at the training data\n",
    "plt.figure(figsize=(20,4))\n",
    "for index, (image, label) in enumerate(zip(digits_dataset.data[0:10], digits_dataset.target[0:10])):\n",
    "    plt.subplot(1, 10, index + 1)\n",
    "    plt.imshow(np.reshape(image, (8,8)), cmap=plt.cm.gray)\n",
    "    plt.title('Training: %i\\n' % label, fontsize = 20)\n"
   ]
  },
  {
   "cell_type": "code",
   "execution_count": 26,
   "metadata": {},
   "outputs": [],
   "source": [
    "#Splitting the dataset into training and testing data set\n",
    "\n",
    "from sklearn.model_selection import train_test_split\n",
    "x_train, x_test, y_train, y_test = train_test_split(digits_dataset.data, digits_dataset.target, test_size=0.30, random_state=0) #70% data for Training and 30% Data for Testing\n"
   ]
  },
  {
   "cell_type": "code",
   "execution_count": 27,
   "metadata": {},
   "outputs": [
    {
     "name": "stderr",
     "output_type": "stream",
     "text": [
      "C:\\Users\\Leekha\\Anaconda3\\lib\\site-packages\\sklearn\\linear_model\\logistic.py:432: FutureWarning: Default solver will be changed to 'lbfgs' in 0.22. Specify a solver to silence this warning.\n",
      "  FutureWarning)\n",
      "C:\\Users\\Leekha\\Anaconda3\\lib\\site-packages\\sklearn\\linear_model\\logistic.py:469: FutureWarning: Default multi_class will be changed to 'auto' in 0.22. Specify the multi_class option to silence this warning.\n",
      "  \"this warning.\", FutureWarning)\n"
     ]
    },
    {
     "data": {
      "text/plain": [
       "LogisticRegression(C=1.0, class_weight=None, dual=False, fit_intercept=True,\n",
       "                   intercept_scaling=1, l1_ratio=None, max_iter=100,\n",
       "                   multi_class='warn', n_jobs=None, penalty='l2',\n",
       "                   random_state=None, solver='warn', tol=0.0001, verbose=0,\n",
       "                   warm_start=False)"
      ]
     },
     "execution_count": 27,
     "metadata": {},
     "output_type": "execute_result"
    }
   ],
   "source": [
    "#Import the LogisticRegression class from sklearn and use the fit method to train the model\n",
    "\n",
    "from sklearn.linear_model import LogisticRegression\n",
    "logRegression = LogisticRegression()\n",
    "logRegression.fit(x_train, y_train)\n"
   ]
  },
  {
   "cell_type": "code",
   "execution_count": 28,
   "metadata": {},
   "outputs": [],
   "source": [
    "#Predicting for images \n",
    "logRegression.predict(x_test[0].reshape(1,-1))\n",
    "\n",
    "logRegression.predict(x_test[0:10])\n",
    "\n",
    "y_pred = logRegression.predict(x_test)\n",
    "\n"
   ]
  },
  {
   "cell_type": "code",
   "execution_count": 29,
   "metadata": {},
   "outputs": [
    {
     "name": "stdout",
     "output_type": "stream",
     "text": [
      "Confusion Matrix:-\n",
      " [[45  0  0  0  0  0  0  0  0  0]\n",
      " [ 0 47  0  0  0  0  2  0  3  0]\n",
      " [ 0  0 51  2  0  0  0  0  0  0]\n",
      " [ 0  0  1 52  0  0  0  0  0  1]\n",
      " [ 0  0  0  0 48  0  0  0  0  0]\n",
      " [ 0  1  0  0  0 55  1  0  0  0]\n",
      " [ 0  1  0  0  0  0 59  0  0  0]\n",
      " [ 0  1  0  1  1  0  0 50  0  0]\n",
      " [ 0  3  1  0  0  0  0  0 55  2]\n",
      " [ 0  0  0  1  0  1  0  0  2 53]]\n",
      "Classification Report:-\n",
      "               precision    recall  f1-score   support\n",
      "\n",
      "           0       1.00      1.00      1.00        45\n",
      "           1       0.89      0.90      0.90        52\n",
      "           2       0.96      0.96      0.96        53\n",
      "           3       0.93      0.96      0.95        54\n",
      "           4       0.98      1.00      0.99        48\n",
      "           5       0.98      0.96      0.97        57\n",
      "           6       0.95      0.98      0.97        60\n",
      "           7       1.00      0.94      0.97        53\n",
      "           8       0.92      0.90      0.91        61\n",
      "           9       0.95      0.93      0.94        57\n",
      "\n",
      "    accuracy                           0.95       540\n",
      "   macro avg       0.96      0.96      0.96       540\n",
      "weighted avg       0.95      0.95      0.95       540\n",
      "\n",
      "Accuracy:-\n",
      " 0.9537037037037037\n"
     ]
    }
   ],
   "source": [
    "#Calculating performance metrics (Confusion matrix, Classification Report and Accuracy) of our decision tree classifier. \n",
    "\n",
    "from sklearn.metrics import classification_report, confusion_matrix, accuracy_score\n",
    "print('Confusion Matrix:-\\n', confusion_matrix(y_test, y_pred))\n",
    "print('Classification Report:-\\n', classification_report(y_test, y_pred))\n",
    "print('Accuracy:-\\n',accuracy_score(y_test,y_pred))\n"
   ]
  },
  {
   "cell_type": "markdown",
   "metadata": {},
   "source": [
    "##### Decision Tree Algorithm"
   ]
  },
  {
   "cell_type": "code",
   "execution_count": 30,
   "metadata": {},
   "outputs": [],
   "source": [
    "#Importing necessary packages\n",
    "\n",
    "import pandas as pd\n",
    "from sklearn.tree import DecisionTreeClassifier \n",
    "from sklearn.model_selection import train_test_split\n"
   ]
  },
  {
   "cell_type": "code",
   "execution_count": 31,
   "metadata": {},
   "outputs": [],
   "source": [
    "#Download the Pima-Indiands-Diabetes dataset and read it using Pandas as follows:\n",
    "\n",
    "Data_column_names = ['pregnant', 'glucose', 'bp', 'skin', 'insulin', 'bmi', 'pedigree', 'age', 'label']\n",
    "Dataset_pima_diabetes = pd.read_csv(r\"C:\\Users\\Leekha\\Desktop\\pima-indians-diabetes.csv\", header=None, names= Data_column_names)\n"
   ]
  },
  {
   "cell_type": "code",
   "execution_count": 32,
   "metadata": {},
   "outputs": [
    {
     "data": {
      "text/html": [
       "<div>\n",
       "<style scoped>\n",
       "    .dataframe tbody tr th:only-of-type {\n",
       "        vertical-align: middle;\n",
       "    }\n",
       "\n",
       "    .dataframe tbody tr th {\n",
       "        vertical-align: top;\n",
       "    }\n",
       "\n",
       "    .dataframe thead th {\n",
       "        text-align: right;\n",
       "    }\n",
       "</style>\n",
       "<table border=\"1\" class=\"dataframe\">\n",
       "  <thead>\n",
       "    <tr style=\"text-align: right;\">\n",
       "      <th></th>\n",
       "      <th>pregnant</th>\n",
       "      <th>glucose</th>\n",
       "      <th>bp</th>\n",
       "      <th>skin</th>\n",
       "      <th>insulin</th>\n",
       "      <th>bmi</th>\n",
       "      <th>pedigree</th>\n",
       "      <th>age</th>\n",
       "      <th>label</th>\n",
       "    </tr>\n",
       "  </thead>\n",
       "  <tbody>\n",
       "    <tr>\n",
       "      <th>0</th>\n",
       "      <td>6</td>\n",
       "      <td>148</td>\n",
       "      <td>72</td>\n",
       "      <td>35</td>\n",
       "      <td>0</td>\n",
       "      <td>33.6</td>\n",
       "      <td>0.627</td>\n",
       "      <td>50</td>\n",
       "      <td>1</td>\n",
       "    </tr>\n",
       "    <tr>\n",
       "      <th>1</th>\n",
       "      <td>1</td>\n",
       "      <td>85</td>\n",
       "      <td>66</td>\n",
       "      <td>29</td>\n",
       "      <td>0</td>\n",
       "      <td>26.6</td>\n",
       "      <td>0.351</td>\n",
       "      <td>31</td>\n",
       "      <td>0</td>\n",
       "    </tr>\n",
       "    <tr>\n",
       "      <th>2</th>\n",
       "      <td>8</td>\n",
       "      <td>183</td>\n",
       "      <td>64</td>\n",
       "      <td>0</td>\n",
       "      <td>0</td>\n",
       "      <td>23.3</td>\n",
       "      <td>0.672</td>\n",
       "      <td>32</td>\n",
       "      <td>1</td>\n",
       "    </tr>\n",
       "    <tr>\n",
       "      <th>3</th>\n",
       "      <td>1</td>\n",
       "      <td>89</td>\n",
       "      <td>66</td>\n",
       "      <td>23</td>\n",
       "      <td>94</td>\n",
       "      <td>28.1</td>\n",
       "      <td>0.167</td>\n",
       "      <td>21</td>\n",
       "      <td>0</td>\n",
       "    </tr>\n",
       "    <tr>\n",
       "      <th>4</th>\n",
       "      <td>0</td>\n",
       "      <td>137</td>\n",
       "      <td>40</td>\n",
       "      <td>35</td>\n",
       "      <td>168</td>\n",
       "      <td>43.1</td>\n",
       "      <td>2.288</td>\n",
       "      <td>33</td>\n",
       "      <td>1</td>\n",
       "    </tr>\n",
       "  </tbody>\n",
       "</table>\n",
       "</div>"
      ],
      "text/plain": [
       "   pregnant  glucose  bp  skin  insulin   bmi  pedigree  age  label\n",
       "0         6      148  72    35        0  33.6     0.627   50      1\n",
       "1         1       85  66    29        0  26.6     0.351   31      0\n",
       "2         8      183  64     0        0  23.3     0.672   32      1\n",
       "3         1       89  66    23       94  28.1     0.167   21      0\n",
       "4         0      137  40    35      168  43.1     2.288   33      1"
      ]
     },
     "execution_count": 32,
     "metadata": {},
     "output_type": "execute_result"
    }
   ],
   "source": [
    "#With the help of following script, you can look at the dataset \n",
    "\n",
    "Dataset_pima_diabetes.head()\n"
   ]
  },
  {
   "cell_type": "code",
   "execution_count": 33,
   "metadata": {},
   "outputs": [],
   "source": [
    "#Splitting the dataset in fetaures and target variables\n",
    "\n",
    "feature_columns = ['pregnant', 'insulin','bmi', 'age','glucose','bp','pedigree','skin']\n",
    "\n",
    "# Features\n",
    "\n",
    "X = Dataset_pima_diabetes[feature_columns] \n",
    "\n",
    "# Target variable\n",
    "\n",
    "y = Dataset_pima_diabetes.label \n",
    "\n",
    "#Splitting the dataset for training and testing purpose. Here we are splitting the dataset into 80% training data and 20% of testing data.\n",
    "\n",
    "X_train, X_test, y_train, y_test = train_test_split(X, y, test_size=0.2, random_state=1) \n",
    "\n",
    "#Train the model. We are using DecisionTreeClassifier() class of Scikit-learn\n",
    "\n",
    "DT_classifier = DecisionTreeClassifier()\n",
    "DT_classifier = DT_classifier.fit(X_train,y_train)\n",
    "\n",
    "#Make predictions from trained model\n",
    "\n",
    "y_pred = DT_classifier.predict(X_test)\n"
   ]
  },
  {
   "cell_type": "code",
   "execution_count": 34,
   "metadata": {},
   "outputs": [
    {
     "name": "stdout",
     "output_type": "stream",
     "text": [
      "Confusion Matrix:-\n",
      " [[81 18]\n",
      " [26 29]]\n",
      "Classification Report:-\n",
      "               precision    recall  f1-score   support\n",
      "\n",
      "           0       0.76      0.82      0.79        99\n",
      "           1       0.62      0.53      0.57        55\n",
      "\n",
      "    accuracy                           0.71       154\n",
      "   macro avg       0.69      0.67      0.68       154\n",
      "weighted avg       0.71      0.71      0.71       154\n",
      "\n",
      "Accuracy:-\n",
      " 0.7142857142857143\n"
     ]
    }
   ],
   "source": [
    "#Calculating performance metrics (Confusion matrix, Classification Report and Accuracy) of our decision tree classifier. \n",
    "\n",
    "from sklearn.metrics import classification_report, confusion_matrix, accuracy_score\n",
    "print('Confusion Matrix:-\\n', confusion_matrix(y_test, y_pred))\n",
    "print('Classification Report:-\\n', classification_report(y_test, y_pred))\n",
    "print('Accuracy:-\\n',accuracy_score(y_test,y_pred))\n"
   ]
  },
  {
   "cell_type": "code",
   "execution_count": 35,
   "metadata": {},
   "outputs": [
    {
     "data": {
      "text/plain": [
       "'DTVisualize.pdf'"
      ]
     },
     "execution_count": 35,
     "metadata": {},
     "output_type": "execute_result"
    }
   ],
   "source": [
    "#Visualizing our decision tree\n",
    "import graphviz\n",
    "from sklearn import tree\n",
    "dot_data = tree.export_graphviz(DT_classifier,out_file=None,feature_names=feature_columns,class_names=True)\n",
    "graph = graphviz.Source(dot_data)\n",
    "graph.render(\"DTVisualize\",view=True)\n"
   ]
  },
  {
   "cell_type": "markdown",
   "metadata": {},
   "source": [
    "##### Random Forest"
   ]
  },
  {
   "cell_type": "code",
   "execution_count": 36,
   "metadata": {},
   "outputs": [],
   "source": [
    "#Importing necessary packages\n",
    "\n",
    "import pandas as pd\n",
    "from sklearn.model_selection import train_test_split\n"
   ]
  },
  {
   "cell_type": "code",
   "execution_count": 37,
   "metadata": {},
   "outputs": [],
   "source": [
    "#Download the Pima-Indiands-Diabetes dataset and read it using Pandas as follows:\n",
    "\n",
    "Data_column_names = ['pregnant', 'glucose', 'bp', 'skin', 'insulin', 'bmi', 'pedigree', 'age', 'label']\n",
    "Dataset_pima_diabetes = pd.read_csv(r\"C:\\Users\\Leekha\\Desktop\\pima-indians-diabetes.csv\", header=None, names= Data_column_names)\n"
   ]
  },
  {
   "cell_type": "code",
   "execution_count": 38,
   "metadata": {},
   "outputs": [],
   "source": [
    "#Splitting the dataset in fetaures and target variables\n",
    "\n",
    "feature_columns = ['pregnant', 'insulin','bmi', 'age','glucose','bp','pedigree','skin']\n",
    "\n",
    "# Features\n",
    "\n",
    "X = Dataset_pima_diabetes[feature_columns] \n",
    "\n",
    "# Target variable\n",
    "\n",
    "y = Dataset_pima_diabetes.label \n",
    "\n",
    "#Splitting the dataset for training and testing purpose. Here we are splitting the dataset into 80% training data and 20% of testing data.\n",
    "\n",
    "X_train, X_test, y_train, y_test = train_test_split(X, y, test_size=0.2, random_state=1) \n"
   ]
  },
  {
   "cell_type": "code",
   "execution_count": 39,
   "metadata": {},
   "outputs": [],
   "source": [
    "#Train the model. We are using RandomForestClassifier() class of Scikit-learn\n",
    "\n",
    "RF_classifier = DecisionTreeClassifier()\n",
    "RF_classifier = RF_classifier.fit(X_train,y_train)\n",
    "\n",
    "#Make predictions from trained model\n",
    "\n",
    "y_pred = RF_classifier.predict(X_test)\n"
   ]
  },
  {
   "cell_type": "code",
   "execution_count": 40,
   "metadata": {},
   "outputs": [
    {
     "name": "stdout",
     "output_type": "stream",
     "text": [
      "Confusion Matrix:-\n",
      " [[79 20]\n",
      " [25 30]]\n",
      "Classification Report:-\n",
      "               precision    recall  f1-score   support\n",
      "\n",
      "           0       0.76      0.80      0.78        99\n",
      "           1       0.60      0.55      0.57        55\n",
      "\n",
      "    accuracy                           0.71       154\n",
      "   macro avg       0.68      0.67      0.67       154\n",
      "weighted avg       0.70      0.71      0.70       154\n",
      "\n",
      "Accuracy:-\n",
      " 0.7077922077922078\n"
     ]
    }
   ],
   "source": [
    "#Calculating performance metrics (Confusion matrix, Classification Report and Accuracy) of our decision tree classifier. \n",
    "\n",
    "from sklearn.metrics import classification_report, confusion_matrix, accuracy_score\n",
    "print('Confusion Matrix:-\\n', confusion_matrix(y_test, y_pred))\n",
    "print('Classification Report:-\\n', classification_report(y_test, y_pred))\n",
    "print('Accuracy:-\\n',accuracy_score(y_test,y_pred))\n",
    "\n"
   ]
  },
  {
   "cell_type": "markdown",
   "metadata": {},
   "source": [
    "##### Naive Bayes Algorithm"
   ]
  },
  {
   "cell_type": "code",
   "execution_count": 41,
   "metadata": {},
   "outputs": [],
   "source": [
    "#Importing necessary packages\n",
    "\n",
    "from sklearn import preprocessing #LabelEncoder\n",
    "from sklearn.naive_bayes import GaussianNB #Gaussian Naive Bayes model\n"
   ]
  },
  {
   "cell_type": "code",
   "execution_count": 42,
   "metadata": {},
   "outputs": [],
   "source": [
    "#Assigning features and label variables to the columns of our dataset:\n",
    "\n",
    "weather=['Sunny','Sunny','Overcast','Rainy','Rainy','Overcast','Sunny','Sunny','Rainy','Overcast','Rainy']\n",
    "temp=['Hot','Hot','Hot','Mild','Cool','Cool','Mild','Cool','Mild','Mild','Mild']\n",
    "play=['N','N','Y','Y','N','N','Y','Y','Y','Y','Y']\n"
   ]
  },
  {
   "cell_type": "code",
   "execution_count": 43,
   "metadata": {},
   "outputs": [],
   "source": [
    "#Creating Label Encoder\n",
    "Lbl_encoder = preprocessing.LabelEncoder()\n",
    "\n",
    "# Convert string labels into numbers.\n",
    "encode_weatherdata= Lbl_encoder.fit_transform(weather)\n",
    "encode_temperaturedata= Lbl_encoder.fit_transform(temp)\n",
    "encode_labeldata= Lbl_encoder.fit_transform(play)\n"
   ]
  },
  {
   "cell_type": "code",
   "execution_count": 45,
   "metadata": {},
   "outputs": [
    {
     "name": "stdout",
     "output_type": "stream",
     "text": [
      "Encoded Weather Data is: [2 2 0 1 1 0 2 2 1 0 1]\n",
      "Encoded Temperature Data is: [1 1 1 2 0 0 2 0 2 2 2]\n",
      "Encoded Label Data is: [0 0 1 1 0 0 1 1 1 1 1]\n"
     ]
    }
   ],
   "source": [
    "# Printing encoded data\n",
    "print (\"Encoded Weather Data is:\", encode_weatherdata)\n",
    "print (\"Encoded Temperature Data is:\", encode_temperaturedata)\n",
    "print (\"Encoded Label Data is:\", encode_labeldata)\n"
   ]
  },
  {
   "cell_type": "code",
   "execution_count": 47,
   "metadata": {},
   "outputs": [
    {
     "name": "stdout",
     "output_type": "stream",
     "text": [
      "Combined features in a single list of tuples: ((2, 1), (2, 1), (0, 1), (1, 2), (1, 0), (0, 0), (2, 2), (2, 0), (1, 2), (0, 2), (1, 2))\n"
     ]
    },
    {
     "data": {
      "text/plain": [
       "GaussianNB(priors=None, var_smoothing=1e-09)"
      ]
     },
     "execution_count": 47,
     "metadata": {},
     "output_type": "execute_result"
    }
   ],
   "source": [
    "# Combining both the features in a single list of tuples\n",
    "combn_features=tuple(zip(encode_weatherdata, encode_temperaturedata))\n",
    "print (\"Combined features in a single list of tuples:\", combn_features)\n",
    "\n",
    "#Generating a Gaussian Classifier\n",
    "NB_model = GaussianNB()\n",
    "\n",
    "# Training our model\n",
    "NB_model.fit(combn_features, encode_labeldata)\n"
   ]
  },
  {
   "cell_type": "code",
   "execution_count": 48,
   "metadata": {},
   "outputs": [
    {
     "name": "stdout",
     "output_type": "stream",
     "text": [
      "Predicted Value: [0]\n"
     ]
    }
   ],
   "source": [
    "#Predicting the Output\n",
    "predicted= NB_model.predict([[1,0]]) # 1:-Rainy, 0:-Cool\n",
    "print (\"Predicted Value:\", predicted)\n"
   ]
  },
  {
   "cell_type": "markdown",
   "metadata": {},
   "source": [
    "##### Multi Class Classification uisng Naive Bayes Algorithm"
   ]
  },
  {
   "cell_type": "code",
   "execution_count": 49,
   "metadata": {},
   "outputs": [],
   "source": [
    "#Importing necessary packages \n",
    "from sklearn import datasets # scikit-learn dataset library\n",
    "from sklearn.model_selection import train_test_split # train_test_split function\n",
    "from sklearn.naive_bayes import GaussianNB #Gaussian Naive Bayes model\n"
   ]
  },
  {
   "cell_type": "code",
   "execution_count": 50,
   "metadata": {},
   "outputs": [],
   "source": [
    "#Loading iris-flower dataset\n",
    "iris_flower = datasets.load_iris()\n"
   ]
  },
  {
   "cell_type": "code",
   "execution_count": 51,
   "metadata": {},
   "outputs": [
    {
     "name": "stdout",
     "output_type": "stream",
     "text": [
      "Features:  ['sepal length (cm)', 'sepal width (cm)', 'petal length (cm)', 'petal width (cm)']\n",
      "Labels:  ['setosa' 'versicolor' 'virginica']\n"
     ]
    },
    {
     "data": {
      "text/plain": [
       "(150, 4)"
      ]
     },
     "execution_count": 51,
     "metadata": {},
     "output_type": "execute_result"
    }
   ],
   "source": [
    "# Printing the names of the features\n",
    "print (\"Features: \", iris_flower.feature_names)\n",
    "\n",
    "# Printing the label type of flowers\n",
    "print (\"Labels: \", iris_flower.target_names)\n",
    "\n",
    "# Printing data shape\n",
    "iris_flower.data.shape\n"
   ]
  },
  {
   "cell_type": "code",
   "execution_count": 52,
   "metadata": {},
   "outputs": [
    {
     "name": "stdout",
     "output_type": "stream",
     "text": [
      "[[5.1 3.5 1.4 0.2]\n",
      " [4.9 3.  1.4 0.2]\n",
      " [4.7 3.2 1.3 0.2]\n",
      " [4.6 3.1 1.5 0.2]\n",
      " [5.  3.6 1.4 0.2]\n",
      " [5.4 3.9 1.7 0.4]\n",
      " [4.6 3.4 1.4 0.3]\n",
      " [5.  3.4 1.5 0.2]\n",
      " [4.4 2.9 1.4 0.2]\n",
      " [4.9 3.1 1.5 0.1]]\n"
     ]
    }
   ],
   "source": [
    "# Printing the iris-flower data features (top 10 records)\n",
    "print (iris_flower.data[0:10])\n"
   ]
  },
  {
   "cell_type": "code",
   "execution_count": 53,
   "metadata": {},
   "outputs": [
    {
     "name": "stdout",
     "output_type": "stream",
     "text": [
      "[0 0 0 0 0 0 0 0 0 0 0 0 0 0 0 0 0 0 0 0 0 0 0 0 0 0 0 0 0 0 0 0 0 0 0 0 0\n",
      " 0 0 0 0 0 0 0 0 0 0 0 0 0 1 1 1 1 1 1 1 1 1 1 1 1 1 1 1 1 1 1 1 1 1 1 1 1\n",
      " 1 1 1 1 1 1 1 1 1 1 1 1 1 1 1 1 1 1 1 1 1 1 1 1 1 1 2 2 2 2 2 2 2 2 2 2 2\n",
      " 2 2 2 2 2 2 2 2 2 2 2 2 2 2 2 2 2 2 2 2 2 2 2 2 2 2 2 2 2 2 2 2 2 2 2 2 2\n",
      " 2 2]\n"
     ]
    }
   ],
   "source": [
    "# Printing the iris-flower labels (0:setosa, 1:versicolor, 2:virginica)\n",
    "print (iris_flower.target)\n"
   ]
  },
  {
   "cell_type": "code",
   "execution_count": 54,
   "metadata": {},
   "outputs": [],
   "source": [
    "# Splitting iris-dataset into training set and test set\n",
    "X_train, X_test, y_train, y_test = train_test_split(iris_flower.data, iris_flower.target, test_size=0.3,random_state=115) # 70% data for training and 30% data for testing purpose\n"
   ]
  },
  {
   "cell_type": "code",
   "execution_count": 55,
   "metadata": {},
   "outputs": [
    {
     "name": "stdout",
     "output_type": "stream",
     "text": [
      "Accuracy: 0.9333333333333333\n"
     ]
    }
   ],
   "source": [
    "#Generating a Gaussian Classifier\n",
    "NB_iris = GaussianNB()\n",
    "\n",
    "#Training the classifier model using the training sets\n",
    "NB_iris.fit(X_train, y_train)\n",
    "\n",
    "#Predicting the response for testing dataset\n",
    "y_pred = NB_iris.predict(X_test)\n",
    "\n",
    "#Importing the scikit-learn metrics module for calculating the accuracy\n",
    "from sklearn import metrics\n",
    "print(\"Accuracy:\",metrics.accuracy_score(y_test, y_pred))\n"
   ]
  },
  {
   "cell_type": "markdown",
   "metadata": {},
   "source": [
    "##### Support Vector Machine (SVM)"
   ]
  },
  {
   "cell_type": "code",
   "execution_count": 56,
   "metadata": {},
   "outputs": [],
   "source": [
    "#Importing necessary packages \n",
    "import numpy as np\n",
    "import matplotlib.pyplot as plt\n",
    "from scipy import stats\n",
    "import seaborn as sns; sns.set()\n"
   ]
  },
  {
   "cell_type": "code",
   "execution_count": 57,
   "metadata": {},
   "outputs": [
    {
     "data": {
      "image/png": "[encoded data removed]",
      "text/plain": [
       "<Figure size 432x288 with 1 Axes>"
      ]
     },
     "metadata": {},
     "output_type": "display_data"
    }
   ],
   "source": [
    "#Generating sample dataset having linearly separable data\n",
    "from sklearn.datasets.samples_generator import make_blobs\n",
    "X_data, y_data = make_blobs(n_samples=500, centers=2,\n",
    "                  random_state=0, cluster_std=0.30)\n",
    "plt.scatter(X_data[:, 0], X_data[:, 1], c=y_data, s=30, cmap='winter'); \n"
   ]
  },
  {
   "cell_type": "code",
   "execution_count": 58,
   "metadata": {},
   "outputs": [
    {
     "data": {
      "image/png": "[encoded data removed]",
      "text/plain": [
       "<Figure size 432x288 with 1 Axes>"
      ]
     },
     "metadata": {},
     "output_type": "display_data"
    }
   ],
   "source": [
    "# Implementing discriminative classification i.e. Dividing the classes from each other \n",
    "xfit = np.linspace(-1, 3.5)\n",
    "plt.scatter(X_data[:, 0], X_data[:, 1], c=y_data, s=30, cmap='winter')\n",
    "for m, b in [(1, 0.65), (0.5, 1.6), (-0.2, 2.9)]:\n",
    "    plt.plot(xfit, m * xfit + b, '-k')\n",
    "plt.xlim(-1, 3.5);\n"
   ]
  },
  {
   "cell_type": "code",
   "execution_count": 59,
   "metadata": {},
   "outputs": [
    {
     "data": {
      "image/png": "[encoded data removed]",
      "text/plain": [
       "<Figure size 432x288 with 1 Axes>"
      ]
     },
     "metadata": {},
     "output_type": "display_data"
    }
   ],
   "source": [
    "# In order to find MMH, drawing a margin of some width, up to the nearest point, around each line.  \n",
    "xfit = np.linspace(-1, 3.5)\n",
    "plt.scatter(X_data[:, 0], X_data[:, 1], c=y_data, s=30, cmap='winter')\n",
    "\n",
    "for m, b, d in [(1, 0.65, 0.33), (0.5, 1.6, 0.55), (-0.2, 2.9, 0.2)]:\n",
    "    yfit = m * xfit + b\n",
    "    plt.plot(xfit, yfit, '-k')\n",
    "    plt.fill_between(xfit, yfit - d, yfit + d, edgecolor='none',\n",
    "                     color='#AAAAAA', alpha=0.4)\n",
    "\n",
    "plt.xlim(-1, 3.5); \n"
   ]
  },
  {
   "cell_type": "code",
   "execution_count": 60,
   "metadata": {},
   "outputs": [
    {
     "data": {
      "text/plain": [
       "SVC(C=1.0, cache_size=200, class_weight=None, coef0=0.0,\n",
       "    decision_function_shape='ovr', degree=3, gamma='auto_deprecated',\n",
       "    kernel='linear', max_iter=-1, probability=False, random_state=None,\n",
       "    shrinking=True, tol=0.001, verbose=False)"
      ]
     },
     "execution_count": 60,
     "metadata": {},
     "output_type": "execute_result"
    }
   ],
   "source": [
    "#Training the algorithm. Calling fit method of SVC class \n",
    "from sklearn.svm import SVC # \"Support vector classifier\"\n",
    "model = SVC(kernel='linear')\n",
    "model.fit(X_data, y_data)\n"
   ]
  },
  {
   "cell_type": "code",
   "execution_count": 61,
   "metadata": {},
   "outputs": [
    {
     "data": {
      "image/png": "[encoded data removed]",
      "text/plain": [
       "<Figure size 432x288 with 1 Axes>"
      ]
     },
     "metadata": {},
     "output_type": "display_data"
    }
   ],
   "source": [
    "#Plotting the decision function for 2-dimesional SVC\n",
    "\n",
    "def decision_function(model, ax=None, plot_support=True):\n",
    "    \n",
    "    if ax is None:\n",
    "        ax = plt.gca()\n",
    "    xlim = ax.get_xlim()\n",
    "    ylim = ax.get_ylim()\n",
    "    \n",
    "    x = np.linspace(xlim[0], xlim[1], 30)\n",
    "    y = np.linspace(ylim[0], ylim[1], 30)\n",
    "    Y, X = np.meshgrid(y, x)\n",
    "    xy = np.vstack([X.ravel(), Y.ravel()]).T\n",
    "    P = model.decision_function(xy).reshape(X.shape)\n",
    "    ax.contour(X, Y, P, colors='k',\n",
    "               levels=[-1, 0, 1], alpha=0.5,\n",
    "               linestyles=['--', '-', '--'])\n",
    "    \n",
    "\n",
    "    if plot_support:\n",
    "        ax.scatter(model.support_vectors_[:, 0],\n",
    "                   model.support_vectors_[:, 1],\n",
    "                   s=400, linewidth=2, facecolors='none');\n",
    "    ax.set_xlim(xlim)\n",
    "    ax.set_ylim(ylim) \n",
    "\n",
    "plt.scatter(X_data[:, 0], X_data[:, 1], c=y_data, s=30, cmap='winter')\n",
    "decision_function(model);\n"
   ]
  },
  {
   "cell_type": "code",
   "execution_count": 62,
   "metadata": {},
   "outputs": [
    {
     "data": {
      "text/plain": [
       "array([[1.2591839 , 3.48188418],\n",
       "       [1.62869156, 1.49705048],\n",
       "       [2.19960206, 1.72547019]])"
      ]
     },
     "execution_count": 62,
     "metadata": {},
     "output_type": "execute_result"
    }
   ],
   "source": [
    "# Getting the support vectors points\n",
    "model.support_vectors_\n"
   ]
  },
  {
   "cell_type": "markdown",
   "metadata": {},
   "source": [
    "##### Kernel SVM"
   ]
  },
  {
   "cell_type": "code",
   "execution_count": 63,
   "metadata": {},
   "outputs": [],
   "source": [
    "#Importing necessary packages \n",
    "from sklearn import datasets # scikit-learn dataset library\n",
    "from sklearn.model_selection import train_test_split # train_test_split function\n"
   ]
  },
  {
   "cell_type": "code",
   "execution_count": 64,
   "metadata": {},
   "outputs": [],
   "source": [
    "#Loading iris-flower dataset\n",
    "iris_flower = datasets.load_iris()\n"
   ]
  },
  {
   "cell_type": "code",
   "execution_count": 65,
   "metadata": {},
   "outputs": [
    {
     "name": "stdout",
     "output_type": "stream",
     "text": [
      "Features:  ['sepal length (cm)', 'sepal width (cm)', 'petal length (cm)', 'petal width (cm)']\n",
      "Labels:  ['setosa' 'versicolor' 'virginica']\n",
      "[[5.1 3.5 1.4 0.2]\n",
      " [4.9 3.  1.4 0.2]\n",
      " [4.7 3.2 1.3 0.2]\n",
      " [4.6 3.1 1.5 0.2]\n",
      " [5.  3.6 1.4 0.2]\n",
      " [5.4 3.9 1.7 0.4]\n",
      " [4.6 3.4 1.4 0.3]\n",
      " [5.  3.4 1.5 0.2]\n",
      " [4.4 2.9 1.4 0.2]\n",
      " [4.9 3.1 1.5 0.1]]\n",
      "[0 0 0 0 0 0 0 0 0 0 0 0 0 0 0 0 0 0 0 0 0 0 0 0 0 0 0 0 0 0 0 0 0 0 0 0 0\n",
      " 0 0 0 0 0 0 0 0 0 0 0 0 0 1 1 1 1 1 1 1 1 1 1 1 1 1 1 1 1 1 1 1 1 1 1 1 1\n",
      " 1 1 1 1 1 1 1 1 1 1 1 1 1 1 1 1 1 1 1 1 1 1 1 1 1 1 2 2 2 2 2 2 2 2 2 2 2\n",
      " 2 2 2 2 2 2 2 2 2 2 2 2 2 2 2 2 2 2 2 2 2 2 2 2 2 2 2 2 2 2 2 2 2 2 2 2 2\n",
      " 2 2]\n"
     ]
    }
   ],
   "source": [
    "# Printing the names of the features\n",
    "print (\"Features: \", iris_flower.feature_names)\n",
    "\n",
    "# Printing the label type of flowers\n",
    "print (\"Labels: \", iris_flower.target_names)\n",
    "\n",
    "# Printing data shape\n",
    "iris_flower.data.shape\n",
    "\n",
    "# Printing the iris-flower data features (top 10 records)\n",
    "print (iris_flower.data[0:10])\n",
    "\n",
    "# Printing the iris-flower labels (0:setosa, 1:versicolor, 2:virginica)\n",
    "print (iris_flower.target)\n"
   ]
  },
  {
   "cell_type": "code",
   "execution_count": 66,
   "metadata": {},
   "outputs": [],
   "source": [
    "# Splitting iris-dataset into training set and test set\n",
    "X_train, X_test, y_train, y_test = train_test_split(iris_flower.data, iris_flower.target, test_size=0.3,random_state=115) # 70% data for training and 30% data for testing purpose\n"
   ]
  },
  {
   "cell_type": "code",
   "execution_count": 67,
   "metadata": {},
   "outputs": [
    {
     "name": "stderr",
     "output_type": "stream",
     "text": [
      "C:\\Users\\Leekha\\Anaconda3\\lib\\site-packages\\sklearn\\svm\\base.py:193: FutureWarning: The default value of gamma will change from 'auto' to 'scale' in version 0.22 to account better for unscaled features. Set gamma explicitly to 'auto' or 'scale' to avoid this warning.\n",
      "  \"avoid this warning.\", FutureWarning)\n"
     ]
    }
   ],
   "source": [
    "# Training the algorithm by using SVC class fit method. Here we are using Polynomial kernel.\n",
    "\n",
    "from sklearn.svm import SVC\n",
    "svm_K_classifier = SVC(kernel='poly', degree=8)\n",
    "svm_K_classifier.fit(X_train, y_train)\n",
    "\n",
    "#Predicting the response for testing dataset\n",
    "y_pred = svm_K_classifier.predict(X_test)\n",
    "\n"
   ]
  },
  {
   "cell_type": "code",
   "execution_count": 68,
   "metadata": {},
   "outputs": [
    {
     "name": "stdout",
     "output_type": "stream",
     "text": [
      "Confusion Matrix:\n",
      " [[18  0  0]\n",
      " [ 0 10  0]\n",
      " [ 0  3 14]]\n",
      "Classification Report:\n",
      "               precision    recall  f1-score   support\n",
      "\n",
      "           0       1.00      1.00      1.00        18\n",
      "           1       0.77      1.00      0.87        10\n",
      "           2       1.00      0.82      0.90        17\n",
      "\n",
      "    accuracy                           0.93        45\n",
      "   macro avg       0.92      0.94      0.92        45\n",
      "weighted avg       0.95      0.93      0.93        45\n",
      "\n"
     ]
    }
   ],
   "source": [
    "# Importing the scikit-learn classification_report and confusion_matrix module for evaluating the algorithm\n",
    "from sklearn.metrics import classification_report, confusion_matrix\n",
    "print('Confusion Matrix:\\n', confusion_matrix(y_test,y_pred))\n",
    "print('Classification Report:\\n',classification_report(y_test,y_pred))\n"
   ]
  },
  {
   "cell_type": "code",
   "execution_count": 69,
   "metadata": {},
   "outputs": [
    {
     "name": "stdout",
     "output_type": "stream",
     "text": [
      "Confusion Matrix:\n",
      " [[18  0  0]\n",
      " [ 0 10  0]\n",
      " [ 0  2 15]]\n",
      "Classification Report:\n",
      "               precision    recall  f1-score   support\n",
      "\n",
      "           0       1.00      1.00      1.00        18\n",
      "           1       0.83      1.00      0.91        10\n",
      "           2       1.00      0.88      0.94        17\n",
      "\n",
      "    accuracy                           0.96        45\n",
      "   macro avg       0.94      0.96      0.95        45\n",
      "weighted avg       0.96      0.96      0.96        45\n",
      "\n"
     ]
    },
    {
     "name": "stderr",
     "output_type": "stream",
     "text": [
      "C:\\Users\\Leekha\\Anaconda3\\lib\\site-packages\\sklearn\\svm\\base.py:193: FutureWarning: The default value of gamma will change from 'auto' to 'scale' in version 0.22 to account better for unscaled features. Set gamma explicitly to 'auto' or 'scale' to avoid this warning.\n",
      "  \"avoid this warning.\", FutureWarning)\n"
     ]
    }
   ],
   "source": [
    "# Training the algorithm by using SVC class fit method. Here we are using rbf kernel.\n",
    "\n",
    "from sklearn.svm import SVC\n",
    "svm_K_classifier = SVC(kernel='rbf')\n",
    "svm_K_classifier.fit(X_train, y_train)\n",
    "\n",
    "#Predicting the response for testing dataset\n",
    "y_pred = svm_K_classifier.predict(X_test)\n",
    "\n",
    "# Importing the scikit-learn classification_report and confusion_matrix module for evaluating the algorithm\n",
    "from sklearn.metrics import classification_report, confusion_matrix\n",
    "print('Confusion Matrix:\\n', confusion_matrix(y_test,y_pred))\n",
    "print('Classification Report:\\n',classification_report(y_test,y_pred))\n"
   ]
  },
  {
   "cell_type": "code",
   "execution_count": 70,
   "metadata": {},
   "outputs": [
    {
     "name": "stdout",
     "output_type": "stream",
     "text": [
      "Confusion Matrix:\n",
      " [[ 0 18  0]\n",
      " [ 0 10  0]\n",
      " [ 0 17  0]]\n",
      "Classification Report:\n",
      "               precision    recall  f1-score   support\n",
      "\n",
      "           0       0.00      0.00      0.00        18\n",
      "           1       0.22      1.00      0.36        10\n",
      "           2       0.00      0.00      0.00        17\n",
      "\n",
      "    accuracy                           0.22        45\n",
      "   macro avg       0.07      0.33      0.12        45\n",
      "weighted avg       0.05      0.22      0.08        45\n",
      "\n"
     ]
    },
    {
     "name": "stderr",
     "output_type": "stream",
     "text": [
      "C:\\Users\\Leekha\\Anaconda3\\lib\\site-packages\\sklearn\\svm\\base.py:193: FutureWarning: The default value of gamma will change from 'auto' to 'scale' in version 0.22 to account better for unscaled features. Set gamma explicitly to 'auto' or 'scale' to avoid this warning.\n",
      "  \"avoid this warning.\", FutureWarning)\n",
      "C:\\Users\\Leekha\\Anaconda3\\lib\\site-packages\\sklearn\\metrics\\classification.py:1437: UndefinedMetricWarning: Precision and F-score are ill-defined and being set to 0.0 in labels with no predicted samples.\n",
      "  'precision', 'predicted', average, warn_for)\n"
     ]
    }
   ],
   "source": [
    "# Training the algorithm by using SVC class fit method. Here we are using sigmoid kernel.\n",
    "\n",
    "from sklearn.svm import SVC\n",
    "svm_K_classifier = SVC(kernel='sigmoid')\n",
    "svm_K_classifier.fit(X_train, y_train)\n",
    "\n",
    "#Predicting the response for testing dataset\n",
    "y_pred = svm_K_classifier.predict(X_test)\n",
    "\n",
    "# Importing the scikit-learn classification_report and confusion_matrix module for evaluating the algorithm\n",
    "from sklearn.metrics import classification_report, confusion_matrix\n",
    "print('Confusion Matrix:\\n', confusion_matrix(y_test,y_pred))\n",
    "print('Classification Report:\\n',classification_report(y_test,y_pred))\n"
   ]
  },
  {
   "cell_type": "markdown",
   "metadata": {},
   "source": [
    "##### k-Nearest Neighbor (KNN) Classifier"
   ]
  },
  {
   "cell_type": "code",
   "execution_count": 71,
   "metadata": {},
   "outputs": [],
   "source": [
    "#Importing necessary packages \n",
    "import numpy as np  \n",
    "import pandas as pd  \n"
   ]
  },
  {
   "cell_type": "code",
   "execution_count": 77,
   "metadata": {},
   "outputs": [],
   "source": [
    "#Downloading the Iris-flower dataset\n",
    "path = 'https://archive.ics.uci.edu/ml/machine-learning-databases/iris/iris.data'\n"
   ]
  },
  {
   "cell_type": "code",
   "execution_count": 78,
   "metadata": {},
   "outputs": [],
   "source": [
    "# Assigning column names to the dataset\n",
    "column_names = ['sepal-length', 'sepal-width', 'petal-length', 'petal-width', 'Class']\n",
    "\n",
    "# Reading dataset to Pandas dataframes\n",
    "iris_data = pd.read_csv(path, names= column_names)\n",
    "\n",
    "# Data preprocessing\n",
    "X = iris_data.iloc[:, :-1].values  \n",
    "y = iris_data.iloc[:, 4].values\n"
   ]
  },
  {
   "cell_type": "code",
   "execution_count": 79,
   "metadata": {},
   "outputs": [],
   "source": [
    "# Splitting the dataset into train and test data\n",
    "from sklearn.model_selection import train_test_split  \n",
    "X_train, X_test, y_train, y_test = train_test_split(X, y, test_size=0.25) # 75% data for training and 25% data for testing purpose\n"
   ]
  },
  {
   "cell_type": "code",
   "execution_count": 80,
   "metadata": {},
   "outputs": [],
   "source": [
    "# Data scaling for sending scaled data to the train the model\n",
    "from sklearn.preprocessing import StandardScaler  \n",
    "scaler = StandardScaler()  \n",
    "scaler.fit(X_train)\n",
    "X_train = scaler.transform(X_train)  \n",
    "X_test = scaler.transform(X_test)\n"
   ]
  },
  {
   "cell_type": "code",
   "execution_count": 81,
   "metadata": {},
   "outputs": [
    {
     "data": {
      "text/plain": [
       "KNeighborsClassifier(algorithm='auto', leaf_size=30, metric='minkowski',\n",
       "                     metric_params=None, n_jobs=None, n_neighbors=8, p=2,\n",
       "                     weights='uniform')"
      ]
     },
     "execution_count": 81,
     "metadata": {},
     "output_type": "execute_result"
    }
   ],
   "source": [
    "# Training the algorithm by using KNeighborsClassifier class fit method. \n",
    "\n",
    "from sklearn.neighbors import KNeighborsClassifier  \n",
    "Knn_classifier = KNeighborsClassifier(n_neighbors=8)  \n",
    "Knn_classifier.fit(X_train, y_train)  \n"
   ]
  },
  {
   "cell_type": "code",
   "execution_count": 82,
   "metadata": {},
   "outputs": [],
   "source": [
    "#Predicting the response for testing dataset\n",
    "y_pred = Knn_classifier.predict(X_test)\n"
   ]
  },
  {
   "cell_type": "code",
   "execution_count": 83,
   "metadata": {},
   "outputs": [
    {
     "name": "stdout",
     "output_type": "stream",
     "text": [
      "Confusion Matrix:\n",
      " [[ 9  0  0]\n",
      " [ 0 13  2]\n",
      " [ 0  0 14]]\n",
      "Classification Report:\n",
      "                  precision    recall  f1-score   support\n",
      "\n",
      "    Iris-setosa       1.00      1.00      1.00         9\n",
      "Iris-versicolor       1.00      0.87      0.93        15\n",
      " Iris-virginica       0.88      1.00      0.93        14\n",
      "\n",
      "       accuracy                           0.95        38\n",
      "      macro avg       0.96      0.96      0.95        38\n",
      "   weighted avg       0.95      0.95      0.95        38\n",
      "\n"
     ]
    }
   ],
   "source": [
    "# Importing the scikit-learn classification_report and confusion_matrix module for evaluating the algorithm\n",
    "from sklearn.metrics import classification_report, confusion_matrix\n",
    "print('Confusion Matrix:\\n', confusion_matrix(y_test,y_pred))\n",
    "print('Classification Report:\\n',classification_report(y_test,y_pred))\n"
   ]
  },
  {
   "cell_type": "markdown",
   "metadata": {},
   "source": [
    "##### k-Nearest Neighbor (KNN) Regressor"
   ]
  },
  {
   "cell_type": "code",
   "execution_count": 84,
   "metadata": {},
   "outputs": [],
   "source": [
    "#Importing necessary packages, handling dataset \n",
    "import numpy as np\n",
    "from sklearn.datasets import load_iris\n",
    "iris_data = load_iris()\n",
    "X = iris_data.data[:, :4]  \n",
    "y = iris_data.target\n",
    "from sklearn.model_selection import train_test_split  \n",
    "X_train, X_test, y_train, y_test = train_test_split(X, y, test_size=0.25)\n",
    "from sklearn.preprocessing import StandardScaler  \n",
    "scaler = StandardScaler()  \n",
    "scaler.fit(X_train)\n",
    "X_train = scaler.transform(X_train)  \n",
    "X_test = scaler.transform(X_test)\n"
   ]
  },
  {
   "cell_type": "code",
   "execution_count": 85,
   "metadata": {},
   "outputs": [
    {
     "name": "stdout",
     "output_type": "stream",
     "text": [
      "The MSE is: 5.629984\n"
     ]
    }
   ],
   "source": [
    "#This is the only change i.e. we need to import KNeighborRegressor class and train the model \n",
    "from sklearn.neighbors import KNeighborsRegressor\n",
    "knn_regressor = KNeighborsRegressor(n_neighbors=5)  \n",
    "knn_regressor.fit(X_train, y_train)\n",
    "\n",
    "# Printing the Mean Square Error\n",
    "print (\"The MSE is:\",format(np.power(y-knn_regressor.predict(X),4).mean()))\n"
   ]
  },
  {
   "cell_type": "markdown",
   "metadata": {},
   "source": [
    "##### K-Means Clustering"
   ]
  },
  {
   "cell_type": "code",
   "execution_count": 86,
   "metadata": {},
   "outputs": [],
   "source": [
    "#Importing necessary packages \n",
    "%matplotlib inline\n",
    "import matplotlib.pyplot as plt\n",
    "import seaborn as sns; sns.set()  \n",
    "import numpy as np\n",
    "from sklearn.cluster import KMeans\n"
   ]
  },
  {
   "cell_type": "code",
   "execution_count": 87,
   "metadata": {},
   "outputs": [
    {
     "data": {
      "image/png": "[encoded data removed]",
      "text/plain": [
       "<Figure size 432x288 with 1 Axes>"
      ]
     },
     "metadata": {},
     "output_type": "display_data"
    }
   ],
   "source": [
    "#Generating 2-dimensional dataset having 5 blobs \n",
    "\n",
    "from sklearn.datasets.samples_generator import make_blobs\n",
    "X, y_true = make_blobs(n_samples=700, centers=5, cluster_std=0.8)\n",
    "\n",
    "#Let’s visualize our dataset\n",
    "plt.scatter(X[:, 0], X[:, 1], s=10);\n",
    "plt.show()\n"
   ]
  },
  {
   "cell_type": "code",
   "execution_count": 88,
   "metadata": {},
   "outputs": [
    {
     "data": {
      "image/png": "[encoded data removed]",
      "text/plain": [
       "<Figure size 432x288 with 1 Axes>"
      ]
     },
     "metadata": {},
     "output_type": "display_data"
    }
   ],
   "source": [
    "#Creating an object of k-means and providing number of clusters\n",
    "kmeans = KMeans(n_clusters=5)\n",
    "\n",
    "#Train the model by using fit method of k-means() class\n",
    "kmeans.fit(X)\n",
    "\n",
    "# do the predictions\n",
    "y_kmeans = kmeans.predict(X)\n",
    "\n",
    "# Plotting and visualizing cluster’s centers picked by k-means estimators\n",
    "\n",
    "plt.scatter(X[:, 0], X[:, 1], c=y_kmeans, s=10, cmap='rainbow')\n",
    "centers = kmeans.cluster_centers_\n",
    "plt.scatter(centers[:, 0], centers[:, 1], c='black');\n",
    "plt.show()\n"
   ]
  },
  {
   "cell_type": "code",
   "execution_count": null,
   "metadata": {},
   "outputs": [],
   "source": []
  }
 ],
 "metadata": {
  "kernelspec": {
   "display_name": "Python 3",
   "language": "python",
   "name": "python3"
  },
  "language_info": {
   "codemirror_mode": {
    "name": "ipython",
    "version": 3
   },
   "file_extension": ".py",
   "mimetype": "text/x-python",
   "name": "python",
   "nbconvert_exporter": "python",
   "pygments_lexer": "ipython3",
   "version": "3.7.3"
  }
 },
 "nbformat": 4,
 "nbformat_minor": 2
}
