{
 "cells": [
  {
   "cell_type": "markdown",
   "metadata": {},
   "source": [
    "# Checking and Generating Prime Numbers"
   ]
  },
  {
   "cell_type": "code",
   "execution_count": 1,
   "metadata": {},
   "outputs": [],
   "source": [
    "from kanren import isvar, run, membero\n",
    "from kanren.core import success \n",
    "from kanren.core import fail \n",
    "from kanren.core import goaleval \n",
    "from kanren.core import condeseq \n",
    "from kanren.core import eq\n",
    "from kanren.core import var\n",
    "from sympy.ntheory.generate import prime, isprime\n",
    "import itertools as it\n"
   ]
  },
  {
   "cell_type": "code",
   "execution_count": 2,
   "metadata": {},
   "outputs": [],
   "source": [
    "def prime_check(M):\n",
    "    if isvar(M):\n",
    "        return condeseq([(eq,M,p)] for p in map(prime, it.count(1)))\n",
    "    else:\n",
    "        return success if isprime(M) else fail\n"
   ]
  },
  {
   "cell_type": "code",
   "execution_count": 3,
   "metadata": {},
   "outputs": [
    {
     "name": "stdout",
     "output_type": "stream",
     "text": [
      "{3, 5, 7, 41, 11, 61, 23, 89, 59, 29}\n"
     ]
    }
   ],
   "source": [
    "M = var()\n",
    "print((set(run(0,M,(membero,M,(1,3,4,5,6,7,9,10,11,12,14,15,20,21,22,23,29,30,41,44,52,55,59,61,89)),(prime_check,M)))))\n"
   ]
  },
  {
   "cell_type": "code",
   "execution_count": 4,
   "metadata": {},
   "outputs": [
    {
     "name": "stdout",
     "output_type": "stream",
     "text": [
      "(2, 3, 5, 7, 11, 13, 17, 19, 23, 29, 31, 37, 41, 43, 47)\n"
     ]
    }
   ],
   "source": [
    "print((run(15,M,prime_check(M))))"
   ]
  },
  {
   "cell_type": "markdown",
   "metadata": {},
   "source": [
    "# Solving the Puzzels"
   ]
  },
  {
   "cell_type": "code",
   "execution_count": 5,
   "metadata": {},
   "outputs": [],
   "source": [
    "from kanren import *\n",
    "from kanren.core import lall\n",
    "import time\n"
   ]
  },
  {
   "cell_type": "code",
   "execution_count": 6,
   "metadata": {},
   "outputs": [],
   "source": [
    "def left_to_house(q, p, list):\n",
    "\n",
    "    return membero((q,p), zip(list, list[1:]))\n",
    "\n",
    "def next_to_house(q, p, list):\n",
    "\n",
    "    return conde([left_to_house (q, p, list)], [left_to_house (p, q, list)])\n"
   ]
  },
  {
   "cell_type": "code",
   "execution_count": 7,
   "metadata": {},
   "outputs": [],
   "source": [
    "houses = var()\n",
    "rules_for_zebrahouse = lall(\n",
    "    (eq, (var(), var(), var(), var(), var()), houses),\n",
    "    \n",
    "    (membero,('Englishman', var(), var(), var(), 'red'), houses),\n",
    "    (membero,('Swede', var(), var(), 'dog', var()), houses),\n",
    "    (membero,('Dane', var(), 'tea', var(), var()), houses),\n",
    "    (left_to_house,(var(), var(), var(), var(), 'green'),\n",
    "                (var(), var(), var(), var(), 'white'), houses),\n",
    "    (membero,(var(), var(), 'coffee', var(), 'green'), houses),\n",
    "    (membero,(var(), 'Pall Mall', var(), 'birds', var()), houses),\n",
    "    (membero,(var(), 'Dunhill', var(), var(), 'yellow'), houses),\n",
    "    (eq,(var(), var(), (var(), var(), 'milk', var(), var()), var(), var()), houses),\n",
    "    (eq,(('Norwegian', var(), var(), var(), var()), var(), var(), var(), var()), houses),\n",
    "    (next_to_house,(var(), 'Blend', var(), var(), var()),\n",
    "                (var(), var(), var(), 'cats', var()), houses),\n",
    "    (next_to_house,(var(), 'Dunhill', var(), var(), var()),\n",
    "                (var(), var(), var(), 'horse', var()), houses),\n",
    "    (membero,(var(), 'Blue Master', 'beer', var(), var()), houses),\n",
    "    (membero,('German', 'Prince', var(), var(), var()), houses),\n",
    "    (next_to_house,('Norwegian', var(), var(), var(), var()),\n",
    "                (var(), var(), var(), var(), 'blue'), houses),\n",
    "    (next_to_house,(var(), 'Blend', var(), var(), var()),\n",
    "                (var(), var(), 'water', var(), var()), houses),\n",
    "    (membero,(var(), var(), var(), 'zebra', var()), houses)\n",
    ")\n"
   ]
  },
  {
   "cell_type": "code",
   "execution_count": 8,
   "metadata": {},
   "outputs": [],
   "source": [
    "solutions = run(0, houses, rules_for_zebrahouse)"
   ]
  },
  {
   "cell_type": "code",
   "execution_count": 9,
   "metadata": {},
   "outputs": [
    {
     "name": "stdout",
     "output_type": "stream",
     "text": [
      "\n",
      "German had zebra.\n"
     ]
    }
   ],
   "source": [
    "Zebra_house = [house for house in solutions[0] if 'zebra' in house][0][0]\n",
    "print ('\\n'+ Zebra_house + ' had zebra.')\n"
   ]
  },
  {
   "cell_type": "code",
   "execution_count": null,
   "metadata": {},
   "outputs": [],
   "source": []
  }
 ],
 "metadata": {
  "kernelspec": {
   "display_name": "Python 3",
   "language": "python",
   "name": "python3"
  },
  "language_info": {
   "codemirror_mode": {
    "name": "ipython",
    "version": 3
   },
   "file_extension": ".py",
   "mimetype": "text/x-python",
   "name": "python",
   "nbconvert_exporter": "python",
   "pygments_lexer": "ipython3",
   "version": "3.7.3"
  }
 },
 "nbformat": 4,
 "nbformat_minor": 2
}
