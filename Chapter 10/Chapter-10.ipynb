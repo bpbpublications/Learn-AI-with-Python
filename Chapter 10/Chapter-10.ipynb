{
 "cells": [
  {
   "cell_type": "markdown",
   "metadata": {},
   "source": [
    "# Image Classification using CNN"
   ]
  },
  {
   "cell_type": "code",
   "execution_count": null,
   "metadata": {},
   "outputs": [],
   "source": [
    "# Importing the required libraries and packages. \n",
    "from keras.models import Sequential\n",
    "from keras.layers import Conv2D\n",
    "from keras.layers import MaxPooling2D\n",
    "from keras.layers import Flatten\n",
    "from keras.layers import Dense\n",
    "from keras.layers import Activation\n",
    "\n",
    "# Initializing the CNN by using the Sequential Class from keras.\n",
    "Image_Classifier = Sequential()\n",
    "\n",
    "# Adding the first convolutional layer.\n",
    "Image_Classifier.add(Conv2D(filters=32,kernel_size=(3, 3), input_shape = (64, 64, 3), activation = 'relu'))\n",
    "     \n",
    "#Adding a pooling layer.\n",
    "Image_classifier.add(MaxPooling2D(pool_size = (2, 2)))\n",
    "\n",
    "# Adding the flatten layer that will convert the data into a 1-Dimensional array.\n",
    "Image_classifier.add(Flatten())\n",
    "\n",
    "# Adding Full-Connection layers consisting of two layers, Hidden layer and Output layer. \n",
    "Img_classifier.add(Dense(units = 128, activation = 'relu'))\n",
    "Img_classifier.add(Dense(units = 1, activation = 'sigmoid'))\n",
    "\n",
    "\n",
    "#Compiling our classifier.\n",
    "Image_classifier.compile(optimizer = 'adam', loss = 'binary_crossentropy', metrics = ['accuracy']) \n",
    "\n",
    "# Rescaling the images by using ImageDataGenerator.\n",
    "\n",
    "from keras.preprocessing.image import ImageDataGenerator\n",
    "train_datagen = ImageDataGenerator(rescale = 1./255,shear_range = 0.2, zoom_range = 0.2,horizontal_flip = True)\n",
    "test_datagen = ImageDataGenerator(rescale = 1./255)\n",
    "\n",
    "# Now fit the CNN to the images that lets the classifier directly identify the labels form the name of the directories where images lie in.\n",
    "\n",
    "training_set = train_datagen.flow_from_directory('D:/Dataset/train',target_size = (64, 64),batch_size = 32,class_mode = 'binary')\n",
    "\n",
    "test_set = test_datagen.flow_from_directory('D:/Dataset/test',target_size = (64, 64),batch_size =32,class_mode = 'binary') \n",
    "\n",
    "# Training and evaluating our classifier. \n",
    "Image_classifier.fit_generator(training_set,steps_per_epoch = 4000,epochs = 15,validation_data = test_set,validation_steps = 10)\n",
    "\n",
    "#Making new predictions by providing test image to our classifier.\n",
    "import numpy as np\n",
    "from keras.preprocessing import image\n",
    "test_image = image.load_img('D:/Dataset/img.jpg', target_size = (64, 64))\n",
    "test_image = image.img_to_array(test_image)\n",
    "test_image = np.expand_dims(test_image, axis = 0)\n",
    "result = Image_classifier.predict(test_image)\n",
    "training_set.class_indices\n",
    "if result[0][0] == 1:\n",
    "       prediction = 'dog'\n",
    "else:\n",
    "       prediction = 'cat'\n",
    "print(prediction)\n"
   ]
  }
 ],
 "metadata": {
  "kernelspec": {
   "display_name": "Python 3",
   "language": "python",
   "name": "python3"
  },
  "language_info": {
   "codemirror_mode": {
    "name": "ipython",
    "version": 3
   },
   "file_extension": ".py",
   "mimetype": "text/x-python",
   "name": "python",
   "nbconvert_exporter": "python",
   "pygments_lexer": "ipython3",
   "version": "3.7.3"
  }
 },
 "nbformat": 4,
 "nbformat_minor": 2
}
