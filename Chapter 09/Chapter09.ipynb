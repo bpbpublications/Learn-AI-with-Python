{
 "cells": [
  {
   "cell_type": "markdown",
   "metadata": {},
   "source": [
    "# Example of constructing an environment using Python"
   ]
  },
  {
   "cell_type": "code",
   "execution_count": 1,
   "metadata": {},
   "outputs": [
    {
     "name": "stderr",
     "output_type": "stream",
     "text": [
      "C:\\Users\\Leekha\\Anaconda3\\lib\\site-packages\\gym\\logger.py:30: UserWarning: \u001b[33mWARN: You are calling 'step()' even though this environment has already returned done = True. You should always call 'reset()' once you receive 'done = True' -- any further steps are undefined behavior.\u001b[0m\n",
      "  warnings.warn(colorize('%s: %s'%('WARN', msg % args), 'yellow'))\n"
     ]
    }
   ],
   "source": [
    "import gym\n",
    "#creating cartpole-v0 environment\n",
    "env = gym.make('CartPole-v0')\n",
    "#intializing the environment\n",
    "env.reset()\n",
    "for _ in range(1000):\n",
    "    env.render()#render the environment for visual representation\n",
    "    env.step(env.action_space.sample())\n",
    "    env.close()#closing the environment for necessary cleanup \n"
   ]
  },
  {
   "cell_type": "markdown",
   "metadata": {},
   "source": [
    "# EXample of construction an agent using Python"
   ]
  },
  {
   "cell_type": "code",
   "execution_count": 2,
   "metadata": {},
   "outputs": [
    {
     "name": "stdout",
     "output_type": "stream",
     "text": [
      "[ 0.02416912  0.01988508 -0.03993131  0.03795308]\n",
      "[ 0.01064352  0.02269467 -0.02321628  0.00632147]\n",
      "[ 0.03430881  0.0361322  -0.0067321  -0.04223797]\n",
      "[ 0.02505579 -0.00070452 -0.03409382 -0.01289635]\n",
      "[ 0.04007392  0.01627328 -0.04436744  0.04038337]\n",
      "[ 0.00436532  0.01694902  0.04311044 -0.01588845]\n",
      "[ 0.00802774  0.04727898 -0.0169258  -0.04874119]\n",
      "[-0.00238016  0.02434385 -0.04047526  0.01476124]\n",
      "[-0.0487838  -0.03052319 -0.04899067  0.03596062]\n",
      "[-0.04952596 -0.0118019   0.01048803 -0.0132484 ]\n",
      "[ 0.0433736  -0.04203536 -0.04817295  0.0430632 ]\n",
      "[-0.02744945  0.01305047  0.01335935  0.007071  ]\n",
      "[-0.01001777  0.01902484 -0.02627788 -0.00840961]\n",
      "[ 0.00313756 -0.04149642  0.0205224  -0.00351522]\n",
      "[ 0.01554192  0.041771   -0.03521914 -0.04202103]\n",
      "[ 0.04970726 -0.04146381 -0.03170201  0.0027421 ]\n",
      "[-0.03120416  0.03666622  0.0439994   0.02033069]\n",
      "[ 0.03324251 -0.04165533  0.00581581  0.04658865]\n",
      "[ 0.00808708  0.04407901  0.04672068 -0.03464445]\n",
      "[-0.0449797   0.03734323  0.01681414 -0.03648255]\n"
     ]
    }
   ],
   "source": [
    "import gym\n",
    "#Creating cartpole-v0 environment\n",
    "env = gym.make('CartPole-v0')\n",
    "for _ in range(20):\n",
    "    obs = env.reset()\n",
    "    for i in range(100):\n",
    "        env.render()\n",
    "        print(obs)\n",
    "        action = env.action_space.sample()\n",
    "        obs, reward, done, info = env.step(action)\n",
    "        if done:\n",
    "            print(\"Episode finished after {} timesteps\".format(i+1))\n",
    "        break\n"
   ]
  },
  {
   "cell_type": "code",
   "execution_count": null,
   "metadata": {},
   "outputs": [],
   "source": []
  }
 ],
 "metadata": {
  "kernelspec": {
   "display_name": "Python 3",
   "language": "python",
   "name": "python3"
  },
  "language_info": {
   "codemirror_mode": {
    "name": "ipython",
    "version": 3
   },
   "file_extension": ".py",
   "mimetype": "text/x-python",
   "name": "python",
   "nbconvert_exporter": "python",
   "pygments_lexer": "ipython3",
   "version": "3.7.3"
  }
 },
 "nbformat": 4,
 "nbformat_minor": 2
}
